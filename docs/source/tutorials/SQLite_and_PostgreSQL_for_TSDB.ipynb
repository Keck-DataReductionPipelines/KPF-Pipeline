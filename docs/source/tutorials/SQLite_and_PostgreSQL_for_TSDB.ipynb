{
 "cells": [
  {
   "cell_type": "markdown",
   "id": "23152356-d2f4-4f0b-9d6b-73f41d8bbec1",
   "metadata": {},
   "source": [
    "# Database Details - SQLite and PostgreSQL"
   ]
  },
  {
   "cell_type": "code",
   "execution_count": 1,
   "id": "c229c99c-de52-46de-a716-cafd53bce4d6",
   "metadata": {},
   "outputs": [],
   "source": [
    "import os\n",
    "import sqlite3\n",
    "import psycopg2\n",
    "import numpy as np\n",
    "import pandas as pd\n",
    "import matplotlib.pyplot as plt\n",
    "from datetime import datetime\n",
    "from modules.quicklook.src.analyze_time_series import AnalyzeTimeSeries\n",
    "from database.modules.utils.tsdb import TSDB\n",
    "%matplotlib inline"
   ]
  },
  {
   "cell_type": "markdown",
   "id": "838bce6d-360d-4ff0-b68a-ca1e0b5d04a9",
   "metadata": {},
   "source": [
    "This format was chosen because it doesn't require an elaborate software installation and the database files can be easily passed around and read by other users, facilitiating data transfer.   "
   ]
  },
  {
   "cell_type": "code",
   "execution_count": null,
   "id": "ad6a771e-1f6d-4f30-82a5-ebee4019f345",
   "metadata": {},
   "outputs": [],
   "source": []
  }
 ],
 "metadata": {
  "kernelspec": {
   "display_name": "Python 3 (ipykernel)",
   "language": "python",
   "name": "python3"
  },
  "language_info": {
   "codemirror_mode": {
    "name": "ipython",
    "version": 3
   },
   "file_extension": ".py",
   "mimetype": "text/x-python",
   "name": "python",
   "nbconvert_exporter": "python",
   "pygments_lexer": "ipython3",
   "version": "3.11.10"
  }
 },
 "nbformat": 4,
 "nbformat_minor": 5
}
