{
 "cells": [
  {
   "cell_type": "markdown",
   "id": "7235e07d",
   "metadata": {},
   "source": [
    "## All Standard Plots\n",
    "The full set of standard plots based on YAML files in subdirectories of `KPF-Pipeline/static/tsdb_plot_configs/` are shown below"
   ]
  },
  {
   "cell_type": "code",
   "execution_count": 1,
   "id": "c1426f4a",
   "metadata": {},
   "outputs": [],
   "source": [
    "from modules.quicklook.src.analyze_time_series import AnalyzeTimeSeries\n",
    "%matplotlib inline"
   ]
  },
  {
   "cell_type": "code",
   "execution_count": null,
   "id": "cf1e36c6",
   "metadata": {},
   "outputs": [
    {
     "name": "stdout",
     "output_type": "stream",
     "text": [
      "INFO: Starting AnalyzeTimeSeries\n",
      "INFO: Jupyter Notebook environment detected.\n",
      "INFO: Path of database file: /code/KPF-Pipeline/docs/source/tutorials/kpf_ts.db\n",
      "INFO: Base data directory: /data/L0\n",
      "INFO: Primary table 'kpfdb' created/updated successfully.\n",
      "INFO: Metadata table 'kpfdb_metadata' created/updated successfully.\n",
      "INFO: Summary: 14928 obs x 1650 cols over 27 days in 20241001-20241027; updated 2025-03-25 18:13:40\n",
      "INFO: Starting AnalyzeTimeSeries\n",
      "INFO: Jupyter Notebook environment detected.\n",
      "INFO: Path of database file: /code/KPF-Pipeline/docs/source/tutorials/kpf_ts.db\n",
      "INFO: Base data directory: /data/L0\n",
      "INFO: Primary table 'kpfdb' created/updated successfully.\n",
      "INFO: Metadata table 'kpfdb_metadata' created/updated successfully.\n",
      "INFO: Summary: 0 obs x 1651 cols over 0 days in None-None; updated None\n",
      "INFO: Summary: 1 obs x 1651 cols over 1 days in 20241023-20241023; updated 2025-03-27 03:42:15\n",
      "INFO: Starting AnalyzeTimeSeries\n",
      "INFO: Jupyter Notebook environment detected.\n",
      "INFO: Path of database file: /code/KPF-Pipeline/docs/source/tutorials/kpf_ts.db\n",
      "INFO: Base data directory: /data/L0\n",
      "INFO: Primary table 'kpfdb' created/updated successfully.\n",
      "INFO: Metadata table 'kpfdb_metadata' created/updated successfully.\n",
      "INFO: Summary: 1 obs x 1651 cols over 1 days in 20241023-20241023; updated 2025-03-27 03:42:15\n",
      "INFO: Adding to database between 20241001 and 20241031\n"
     ]
    },
    {
     "data": {
      "application/vnd.jupyter.widget-view+json": {
       "model_id": "4586b3e3ec9a40969a2cb7a058b52cbb",
       "version_major": 2,
       "version_minor": 0
      },
      "text/plain": [
       "20241001:   0%|          | 0/27 [00:00<?, ?it/s]"
      ]
     },
     "metadata": {},
     "output_type": "display_data"
    },
    {
     "data": {
      "application/vnd.jupyter.widget-view+json": {
       "model_id": "6c1732ac3f914b96ae08edef77394f1d",
       "version_major": 2,
       "version_minor": 0
      },
      "text/plain": [
       "Files:   0%|          | 0/570 [00:00<?, ?it/s]"
      ]
     },
     "metadata": {},
     "output_type": "display_data"
    },
    {
     "data": {
      "application/vnd.jupyter.widget-view+json": {
       "model_id": "901e06e8d419482387b9fe5d8c1d8e5b",
       "version_major": 2,
       "version_minor": 0
      },
      "text/plain": [
       "Files:   0%|          | 0/592 [00:00<?, ?it/s]"
      ]
     },
     "metadata": {},
     "output_type": "display_data"
    },
    {
     "name": "stderr",
     "output_type": "stream",
     "text": [
      "WARNING: File may have been truncated: actual file length (2060288) is smaller than the expected size (2234880) [astropy.io.fits.file]\n"
     ]
    },
    {
     "name": "stdout",
     "output_type": "stream",
     "text": [
      "INFO: Bad file: /data/L2/20241002/KP.20241002.82910.50_L2.fits. Error: \"Extension 'RV' not found.\"\n"
     ]
    },
    {
     "data": {
      "application/vnd.jupyter.widget-view+json": {
       "model_id": "cf14ca1542454c8a9b4da5ea8ca9e5d7",
       "version_major": 2,
       "version_minor": 0
      },
      "text/plain": [
       "Files:   0%|          | 0/548 [00:00<?, ?it/s]"
      ]
     },
     "metadata": {},
     "output_type": "display_data"
    },
    {
     "name": "stdout",
     "output_type": "stream",
     "text": [
      "INFO: Bad file: /data/2D/20241003/KP.20241003.71590.69_2D.fits. Error: Empty or corrupt FITS file\n",
      "INFO: Bad file: /data/2D/20241003/KP.20241003.71711.97_2D.fits. Error: Empty or corrupt FITS file\n",
      "INFO: Bad file: /data/2D/20241003/KP.20241003.71893.87_2D.fits. Error: Empty or corrupt FITS file\n",
      "INFO: Bad file: /data/2D/20241003/KP.20241003.72136.18_2D.fits. Error: Empty or corrupt FITS file\n",
      "INFO: Bad file: /data/2D/20241003/KP.20241003.72257.14_2D.fits. Error: Empty or corrupt FITS file\n",
      "INFO: Bad file: /data/L1/20241003/KP.20241003.75287.36_L1.fits. Error: Empty or corrupt FITS file\n",
      "INFO: Bad file: /data/L2/20241003/KP.20241003.75287.36_L2.fits. Error: Empty or corrupt FITS file\n",
      "INFO: Bad file: /data/L2/20241003/KP.20241003.75287.36_L2.fits. Error: Empty or corrupt FITS file\n",
      "INFO: Bad file: /data/L2/20241003/KP.20241003.75287.36_L2.fits. Error: Empty or corrupt FITS file\n",
      "INFO: Bad file: /data/L2/20241003/KP.20241003.75347.98_L2.fits. Error: Empty or corrupt FITS file\n",
      "INFO: Bad file: /data/L2/20241003/KP.20241003.75347.98_L2.fits. Error: Empty or corrupt FITS file\n",
      "INFO: Bad file: /data/L2/20241003/KP.20241003.75347.98_L2.fits. Error: Empty or corrupt FITS file\n",
      "INFO: Bad file: /data/L2/20241003/KP.20241003.75408.31_L2.fits. Error: Empty or corrupt FITS file\n",
      "INFO: Bad file: /data/L2/20241003/KP.20241003.75408.31_L2.fits. Error: Empty or corrupt FITS file\n",
      "INFO: Bad file: /data/L2/20241003/KP.20241003.75408.31_L2.fits. Error: Empty or corrupt FITS file\n"
     ]
    },
    {
     "data": {
      "application/vnd.jupyter.widget-view+json": {
       "model_id": "471ac8d791654806b9839e8ba9fcc4ca",
       "version_major": 2,
       "version_minor": 0
      },
      "text/plain": [
       "Files:   0%|          | 0/543 [00:00<?, ?it/s]"
      ]
     },
     "metadata": {},
     "output_type": "display_data"
    },
    {
     "data": {
      "application/vnd.jupyter.widget-view+json": {
       "model_id": "ac8f9ccfb6884c48b029abce556194f9",
       "version_major": 2,
       "version_minor": 0
      },
      "text/plain": [
       "Files:   0%|          | 0/526 [00:00<?, ?it/s]"
      ]
     },
     "metadata": {},
     "output_type": "display_data"
    }
   ],
   "source": [
    "db_path = 'kpf_ts.db' # name of database file\n",
    "myTS = AnalyzeTimeSeries(db_path=db_path)\n",
    "myTS.drop_table()\n",
    "myTS = AnalyzeTimeSeries(db_path=db_path)\n",
    "myTS.ingest_one_observation('/data/L0/20241023/','KP.20241023.70498.48.fits')\n",
    "myTS.print_db_status()\n",
    "start_date = '20241001'\n",
    "end_date   = '20241031'\n",
    "myTS = AnalyzeTimeSeries(db_path=db_path)\n",
    "myTS.ingest_dates_to_db(start_date, end_date)\n",
    "myTS.print_db_status()"
   ]
  },
  {
   "cell_type": "code",
   "execution_count": null,
   "id": "86b81c15",
   "metadata": {},
   "outputs": [],
   "source": [
    "myTS.plot_all_quicklook(print_plot_names=True)"
   ]
  },
  {
   "cell_type": "markdown",
   "id": "722d17dc",
   "metadata": {},
   "source": [
    "## Generating All Standard Plots\n",
    "One can generate all plots from the `plot_all_quicklook_daterange()` method with a single call."
   ]
  },
  {
   "cell_type": "code",
   "execution_count": null,
   "id": "556dd918",
   "metadata": {},
   "outputs": [],
   "source": [
    "myTS = AnalyzeTimeSeries(db_path=db_path)\n",
    "myTS.plot_all_quicklook(datetime(2024, 10, 3), interval='day', show_plot=True, verbose=True)"
   ]
  }
 ],
 "metadata": {
  "kernelspec": {
   "display_name": "Python 3 (ipykernel)",
   "language": "python",
   "name": "python3"
  },
  "language_info": {
   "codemirror_mode": {
    "name": "ipython",
    "version": 3
   },
   "file_extension": ".py",
   "mimetype": "text/x-python",
   "name": "python",
   "nbconvert_exporter": "python",
   "pygments_lexer": "ipython3",
   "version": "3.11.10"
  },
  "scrolled": false
 },
 "nbformat": 4,
 "nbformat_minor": 5
}
