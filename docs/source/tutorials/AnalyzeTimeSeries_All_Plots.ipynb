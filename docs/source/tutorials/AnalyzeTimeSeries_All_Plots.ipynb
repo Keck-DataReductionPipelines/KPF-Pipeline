{
 "cells": [
  {
   "cell_type": "markdown",
   "id": "7235e07d",
   "metadata": {},
   "source": [
    "## The Full Set of Standard Plots\n",
    "The full set of standard plots based on YAML files in subdirectories of `KPF-Pipeline/static/tsdb_plot_configs/` are shown below"
   ]
  },
  {
   "cell_type": "code",
   "execution_count": 1,
   "id": "c1426f4a",
   "metadata": {},
   "outputs": [],
   "source": [
    "from modules.quicklook.src.analyze_time_series import AnalyzeTimeSeries\n",
    "#import pandas as pd\n",
    "#import matplotlib.pyplot as plt\n",
    "#import os\n",
    "#import numpy as np\n",
    "#import time\n",
    "#import subprocess\n",
    "#import matplotlib.dates as mdates\n",
    "#from datetime import datetime\n",
    "#from astropy.table import Table\n",
    "%matplotlib inline"
   ]
  },
  {
   "cell_type": "code",
   "execution_count": 2,
   "id": "cf1e36c6",
   "metadata": {},
   "outputs": [
    {
     "name": "stdout",
     "output_type": "stream",
     "text": [
      "INFO: Starting AnalyzeTimeSeries\n",
      "INFO: Jupyter Notebook environment detected.\n",
      "INFO: Path of database file: /code/KPF-Pipeline/docs/source/tutorials/kpf_ts.db\n",
      "INFO: Base data directory: /data/L0\n",
      "INFO: Primary table 'kpfdb' created/updated successfully.\n",
      "INFO: Metadata table 'kpfdb_metadata' created/updated successfully.\n",
      "INFO: Summary: 14928 obs x 1650 cols over 27 days in 20241001-20241027; updated 2025-03-25 06:47:31\n",
      "INFO: Starting AnalyzeTimeSeries\n",
      "INFO: Jupyter Notebook environment detected.\n",
      "INFO: Path of database file: /code/KPF-Pipeline/docs/source/tutorials/kpf_ts.db\n",
      "INFO: Base data directory: /data/L0\n",
      "INFO: Primary table 'kpfdb' created/updated successfully.\n",
      "INFO: Metadata table 'kpfdb_metadata' created/updated successfully.\n",
      "INFO: Summary: 0 obs x 1650 cols over 0 days in None-None; updated None\n",
      "INFO: Summary: 1 obs x 1650 cols over 1 days in 20241023-20241023; updated 2025-03-25 18:09:36\n",
      "INFO: Starting AnalyzeTimeSeries\n",
      "INFO: Jupyter Notebook environment detected.\n",
      "INFO: Path of database file: /code/KPF-Pipeline/docs/source/tutorials/kpf_ts.db\n",
      "INFO: Base data directory: /data/L0\n",
      "INFO: Primary table 'kpfdb' created/updated successfully.\n",
      "INFO: Metadata table 'kpfdb_metadata' created/updated successfully.\n",
      "INFO: Summary: 1 obs x 1650 cols over 1 days in 20241023-20241023; updated 2025-03-25 18:09:36\n",
      "INFO: Adding to database between 20241001 and 20241031\n"
     ]
    },
    {
     "data": {
      "application/vnd.jupyter.widget-view+json": {
       "model_id": "5764a5ff29f540899be62188f554cba7",
       "version_major": 2,
       "version_minor": 0
      },
      "text/plain": [
       "20241001:   0%|          | 0/27 [00:00<?, ?it/s]"
      ]
     },
     "metadata": {},
     "output_type": "display_data"
    },
    {
     "data": {
      "application/vnd.jupyter.widget-view+json": {
       "model_id": "c155372d2d95498581073967a5d0ce85",
       "version_major": 2,
       "version_minor": 0
      },
      "text/plain": [
       "Files:   0%|          | 0/570 [00:00<?, ?it/s]"
      ]
     },
     "metadata": {},
     "output_type": "display_data"
    },
    {
     "data": {
      "application/vnd.jupyter.widget-view+json": {
       "model_id": "44ec4f185b0a48d3b73786edaa6c781c",
       "version_major": 2,
       "version_minor": 0
      },
      "text/plain": [
       "Files:   0%|          | 0/592 [00:00<?, ?it/s]"
      ]
     },
     "metadata": {},
     "output_type": "display_data"
    },
    {
     "name": "stderr",
     "output_type": "stream",
     "text": [
      "WARNING\n",
      ": File may have been truncated: actual file length (2060288) is smaller than the expected size (2234880) [astropy.io.fits.file]"
     ]
    },
    {
     "name": "stdout",
     "output_type": "stream",
     "text": [
      "INFO: Bad file: /data/L2/20241002/KP.20241002.82910.50_L2.fits. Error: \"Extension 'RV' not found.\"\n"
     ]
    },
    {
     "data": {
      "application/vnd.jupyter.widget-view+json": {
       "model_id": "0ff23a3c45ed497190fa441abb70153e",
       "version_major": 2,
       "version_minor": 0
      },
      "text/plain": [
       "Files:   0%|          | 0/548 [00:00<?, ?it/s]"
      ]
     },
     "metadata": {},
     "output_type": "display_data"
    },
    {
     "name": "stdout",
     "output_type": "stream",
     "text": [
      "INFO: Bad file: /data/2D/20241003/KP.20241003.71590.69_2D.fits. Error: Empty or corrupt FITS file\n",
      "INFO: Bad file: /data/2D/20241003/KP.20241003.71711.97_2D.fits. Error: Empty or corrupt FITS file\n",
      "INFO: Bad file: /data/2D/20241003/KP.20241003.71893.87_2D.fits. Error: Empty or corrupt FITS file\n",
      "INFO: Bad file: /data/2D/20241003/KP.20241003.72136.18_2D.fits. Error: Empty or corrupt FITS file\n",
      "INFO: Bad file: /data/2D/20241003/KP.20241003.72257.14_2D.fits. Error: Empty or corrupt FITS file\n",
      "INFO: Bad file: /data/L1/20241003/KP.20241003.75287.36_L1.fits. Error: Empty or corrupt FITS file\n",
      "INFO: Bad file: /data/L2/20241003/KP.20241003.75287.36_L2.fits. Error: Empty or corrupt FITS file\n",
      "INFO: Bad file: /data/L2/20241003/KP.20241003.75287.36_L2.fits. Error: Empty or corrupt FITS file\n",
      "INFO: Bad file: /data/L2/20241003/KP.20241003.75287.36_L2.fits. Error: Empty or corrupt FITS file\n",
      "INFO: Bad file: /data/L2/20241003/KP.20241003.75408.31_L2.fits. Error: Empty or corrupt FITS fileINFO: Bad file: /data/L2/20241003/KP.20241003.75347.98_L2.fits. Error: Empty or corrupt FITS file\n",
      "\n",
      "INFO: Bad file: /data/L2/20241003/KP.20241003.75347.98_L2.fits. Error: Empty or corrupt FITS fileINFO: Bad file: /data/L2/20241003/KP.20241003.75408.31_L2.fits. Error: Empty or corrupt FITS file\n",
      "\n",
      "INFO: Bad file: /data/L2/20241003/KP.20241003.75347.98_L2.fits. Error: Empty or corrupt FITS fileINFO: Bad file: /data/L2/20241003/KP.20241003.75408.31_L2.fits. Error: Empty or corrupt FITS file\n",
      "\n"
     ]
    },
    {
     "data": {
      "application/vnd.jupyter.widget-view+json": {
       "model_id": "92b4cf70a3914285a0f43dbe1cd2cba5",
       "version_major": 2,
       "version_minor": 0
      },
      "text/plain": [
       "Files:   0%|          | 0/543 [00:00<?, ?it/s]"
      ]
     },
     "metadata": {},
     "output_type": "display_data"
    },
    {
     "data": {
      "application/vnd.jupyter.widget-view+json": {
       "model_id": "ba304e70210a493795817a3ec8bc90a9",
       "version_major": 2,
       "version_minor": 0
      },
      "text/plain": [
       "Files:   0%|          | 0/526 [00:00<?, ?it/s]"
      ]
     },
     "metadata": {},
     "output_type": "display_data"
    },
    {
     "data": {
      "application/vnd.jupyter.widget-view+json": {
       "model_id": "6d16259da3cc4bf9a3f6cc08dab68aba",
       "version_major": 2,
       "version_minor": 0
      },
      "text/plain": [
       "Files:   0%|          | 0/566 [00:00<?, ?it/s]"
      ]
     },
     "metadata": {},
     "output_type": "display_data"
    },
    {
     "data": {
      "application/vnd.jupyter.widget-view+json": {
       "model_id": "1877aabf07ea45339239314e23cb78e6",
       "version_major": 2,
       "version_minor": 0
      },
      "text/plain": [
       "Files:   0%|          | 0/572 [00:00<?, ?it/s]"
      ]
     },
     "metadata": {},
     "output_type": "display_data"
    },
    {
     "data": {
      "application/vnd.jupyter.widget-view+json": {
       "model_id": "3b577e613c4a46579649c9e712cd8d26",
       "version_major": 2,
       "version_minor": 0
      },
      "text/plain": [
       "Files:   0%|          | 0/573 [00:00<?, ?it/s]"
      ]
     },
     "metadata": {},
     "output_type": "display_data"
    },
    {
     "data": {
      "application/vnd.jupyter.widget-view+json": {
       "model_id": "9c0c27dea66449e692f06903353ceba5",
       "version_major": 2,
       "version_minor": 0
      },
      "text/plain": [
       "Files:   0%|          | 0/571 [00:00<?, ?it/s]"
      ]
     },
     "metadata": {},
     "output_type": "display_data"
    },
    {
     "data": {
      "application/vnd.jupyter.widget-view+json": {
       "model_id": "337d154346d844808ebeca04cab31ca8",
       "version_major": 2,
       "version_minor": 0
      },
      "text/plain": [
       "Files:   0%|          | 0/498 [00:00<?, ?it/s]"
      ]
     },
     "metadata": {},
     "output_type": "display_data"
    },
    {
     "data": {
      "application/vnd.jupyter.widget-view+json": {
       "model_id": "1cccf60628184d9083bd8714d56ff7bd",
       "version_major": 2,
       "version_minor": 0
      },
      "text/plain": [
       "Files:   0%|          | 0/554 [00:00<?, ?it/s]"
      ]
     },
     "metadata": {},
     "output_type": "display_data"
    },
    {
     "data": {
      "application/vnd.jupyter.widget-view+json": {
       "model_id": "5ac5de7713ce4ef5b0d685129d4eb01d",
       "version_major": 2,
       "version_minor": 0
      },
      "text/plain": [
       "Files:   0%|          | 0/521 [00:00<?, ?it/s]"
      ]
     },
     "metadata": {},
     "output_type": "display_data"
    },
    {
     "data": {
      "application/vnd.jupyter.widget-view+json": {
       "model_id": "9d5cf73b806049839f9472610a020410",
       "version_major": 2,
       "version_minor": 0
      },
      "text/plain": [
       "Files:   0%|          | 0/692 [00:00<?, ?it/s]"
      ]
     },
     "metadata": {},
     "output_type": "display_data"
    },
    {
     "data": {
      "application/vnd.jupyter.widget-view+json": {
       "model_id": "bf98e10ea54c4e398761cbb928b98f2d",
       "version_major": 2,
       "version_minor": 0
      },
      "text/plain": [
       "Files:   0%|          | 0/571 [00:00<?, ?it/s]"
      ]
     },
     "metadata": {},
     "output_type": "display_data"
    },
    {
     "data": {
      "application/vnd.jupyter.widget-view+json": {
       "model_id": "8b63d8179c654d00ac43fbcb0899fff7",
       "version_major": 2,
       "version_minor": 0
      },
      "text/plain": [
       "Files:   0%|          | 0/521 [00:00<?, ?it/s]"
      ]
     },
     "metadata": {},
     "output_type": "display_data"
    },
    {
     "data": {
      "application/vnd.jupyter.widget-view+json": {
       "model_id": "7f7911c1f39740b98a3de47b55e98353",
       "version_major": 2,
       "version_minor": 0
      },
      "text/plain": [
       "Files:   0%|          | 0/530 [00:00<?, ?it/s]"
      ]
     },
     "metadata": {},
     "output_type": "display_data"
    },
    {
     "data": {
      "application/vnd.jupyter.widget-view+json": {
       "model_id": "01e02d4d96444020acade8b9a5201a58",
       "version_major": 2,
       "version_minor": 0
      },
      "text/plain": [
       "Files:   0%|          | 0/573 [00:00<?, ?it/s]"
      ]
     },
     "metadata": {},
     "output_type": "display_data"
    },
    {
     "data": {
      "application/vnd.jupyter.widget-view+json": {
       "model_id": "99bcdc7d2ad34ef781effcde41d55035",
       "version_major": 2,
       "version_minor": 0
      },
      "text/plain": [
       "Files:   0%|          | 0/572 [00:00<?, ?it/s]"
      ]
     },
     "metadata": {},
     "output_type": "display_data"
    },
    {
     "data": {
      "application/vnd.jupyter.widget-view+json": {
       "model_id": "fb0ed9e685114beabd33cfd1ba590436",
       "version_major": 2,
       "version_minor": 0
      },
      "text/plain": [
       "Files:   0%|          | 0/547 [00:00<?, ?it/s]"
      ]
     },
     "metadata": {},
     "output_type": "display_data"
    },
    {
     "data": {
      "application/vnd.jupyter.widget-view+json": {
       "model_id": "1f2a85eabc8143b8b1808526c702beed",
       "version_major": 2,
       "version_minor": 0
      },
      "text/plain": [
       "Files:   0%|          | 0/566 [00:00<?, ?it/s]"
      ]
     },
     "metadata": {},
     "output_type": "display_data"
    },
    {
     "data": {
      "application/vnd.jupyter.widget-view+json": {
       "model_id": "ce942ac0d06a48f691fa0cd9cb765a9b",
       "version_major": 2,
       "version_minor": 0
      },
      "text/plain": [
       "Files:   0%|          | 0/557 [00:00<?, ?it/s]"
      ]
     },
     "metadata": {},
     "output_type": "display_data"
    },
    {
     "data": {
      "application/vnd.jupyter.widget-view+json": {
       "model_id": "9016b054e6ad48119a386281b2f75792",
       "version_major": 2,
       "version_minor": 0
      },
      "text/plain": [
       "Files:   0%|          | 0/544 [00:00<?, ?it/s]"
      ]
     },
     "metadata": {},
     "output_type": "display_data"
    },
    {
     "data": {
      "application/vnd.jupyter.widget-view+json": {
       "model_id": "9ce8270a67a9496cb65bfa2f4e5d0c11",
       "version_major": 2,
       "version_minor": 0
      },
      "text/plain": [
       "Files:   0%|          | 0/547 [00:00<?, ?it/s]"
      ]
     },
     "metadata": {},
     "output_type": "display_data"
    },
    {
     "data": {
      "application/vnd.jupyter.widget-view+json": {
       "model_id": "d4c644d87e27423284b6d1e3d8cd5b24",
       "version_major": 2,
       "version_minor": 0
      },
      "text/plain": [
       "Files:   0%|          | 0/569 [00:00<?, ?it/s]"
      ]
     },
     "metadata": {},
     "output_type": "display_data"
    },
    {
     "data": {
      "application/vnd.jupyter.widget-view+json": {
       "model_id": "dec1f29de280430bbe9df4e173080276",
       "version_major": 2,
       "version_minor": 0
      },
      "text/plain": [
       "Files:   0%|          | 0/574 [00:00<?, ?it/s]"
      ]
     },
     "metadata": {},
     "output_type": "display_data"
    },
    {
     "data": {
      "application/vnd.jupyter.widget-view+json": {
       "model_id": "ee0c092d17bc435ea41e3311de1b191e",
       "version_major": 2,
       "version_minor": 0
      },
      "text/plain": [
       "Files:   0%|          | 0/544 [00:00<?, ?it/s]"
      ]
     },
     "metadata": {},
     "output_type": "display_data"
    },
    {
     "data": {
      "application/vnd.jupyter.widget-view+json": {
       "model_id": "c897348827e047638bdbf56416a4f1d3",
       "version_major": 2,
       "version_minor": 0
      },
      "text/plain": [
       "Files:   0%|          | 0/387 [00:00<?, ?it/s]"
      ]
     },
     "metadata": {},
     "output_type": "display_data"
    },
    {
     "name": "stdout",
     "output_type": "stream",
     "text": [
      "INFO: Files for 27 days ingested/checked\n",
      "INFO: Summary: 14928 obs x 1650 cols over 27 days in 20241001-20241027; updated 2025-03-25 18:13:40\n",
      "INFO: Summary: 14928 obs x 1650 cols over 27 days in 20241001-20241027; updated 2025-03-25 18:13:40\n"
     ]
    }
   ],
   "source": [
    "db_path = 'kpf_ts.db' # name of database file\n",
    "myTS = AnalyzeTimeSeries(db_path=db_path)\n",
    "myTS.drop_table()\n",
    "myTS = AnalyzeTimeSeries(db_path=db_path)\n",
    "myTS.ingest_one_observation('/data/L0/20241023/','KP.20241023.70498.48.fits')\n",
    "myTS.print_db_status()\n",
    "start_date = '20241001'\n",
    "end_date   = '20241031'\n",
    "myTS = AnalyzeTimeSeries(db_path=db_path)\n",
    "myTS.ingest_dates_to_db(start_date, end_date)\n",
    "myTS.print_db_status()"
   ]
  },
  {
   "cell_type": "code",
   "execution_count": 3,
   "id": "86b81c15",
   "metadata": {},
   "outputs": [
    {
     "name": "stdout",
     "output_type": "stream",
     "text": [
      "Plots available:\n",
      "    'ccd_controller': CCD Controller Temperatures\n",
      "    'ccd_dark_current': CCD Dark Current\n",
      "    'ccd_readnoise': CCD Read Noise\n",
      "    'ccd_readspeed': CCD Read Speed\n",
      "    'ccd_temp': CCD temperatures\n",
      "    'autocal-flat_flux_relative': autocal-flat-all Relative Flux Ratio\n",
      "    'autocal-flat_snr': autocal-flat-all SNR & Flux Ratio\n",
      "    'autocal-flat_snr_relative': autocal-flat-all Relative SNR Ratio\n",
      "    'hcl': Hollow-Cathode Lamp Temperatures\n",
      "    'lamp_power': Power Meter Measurements of Lamp Brightness\n",
      "    'lfc': LFC Diagnostics\n",
      "    'chamber_temp': KPF Spectrometer Temperatures\n",
      "    'chamber_temp_detail': Chamber Temperature Detail\n",
      "    'hallway_temp': KPF Hallway Temperature\n",
      "    'spatial_gradients': KPF Spectrometer Spatial Temperature Gradients\n",
      "    'drphash': KPF-Pipeline Commit Hash\n",
      "    'drptag': KPF-Pipeline Version Number\n",
      "    'master_age': Ages of Master Files\n",
      "    'nobs_all_sources': All Sources - Number of Observations\n",
      "    'nobs_bias': Bias autocal - Number of Observations\n",
      "    'nobs_dark': Dark autocal - Number of Observations\n",
      "    'nobs_flat': Flat autocal - Number of Observations\n",
      "    'nobs_lfc': LFC autocal - Number of Observations\n",
      "    'nobs_star': Stars - Number of Observations\n",
      "    'nobs_sun': SoCal - Number of Observations\n",
      "    'bcvel': Barycentric Variations\n",
      "    'guiding': Guiding Errors & Bias\n",
      "    'observing_snr': Observing SNR & Flux Ratio for Stars\n",
      "    'seeing': Seeing\n",
      "    'sun_moon': Separation of Sun and Moon from Target\n",
      "    'junk_status': Junk Status\n",
      "    'qc_cals': QC - Master File Ages\n",
      "    'qc_em': QC - Exposure Meter\n",
      "    'qc_etalon': QC - Etalon Metrics\n",
      "    'qc_flat': QC - Flat Metrics\n",
      "    'qc_goodread': QC - Good Read Metric\n",
      "    'qc_lfc': QC - LFC Metrics\n",
      "    'qc_low_flux': QC - Low Dark and Bias Flux\n",
      "    'qc_master_age': QC - Master File Ages\n",
      "    'qc_monotonic_wls': QC - Monotonic WLS in L1\n",
      "    'qc_pos_2d_snr': QC - Not Negative 2D SNR\n",
      "    'qc_time_check': QC - L0 and L2 Times Consistent\n",
      "    'qc_wls': QC - Wavelength Solution Metrics\n",
      "    'qc_ntp': QC - Network Time Protocol (NTP)\n",
      "    'qc_guider': QC - Guider Performance\n",
      "    'qc_data_kwds': QC - Data and Keywords Present\n",
      "    'qc_kwds': QC - TARG Keywords\n",
      "    'socal_rv': SoCal RVs\n",
      "    'autocal_etalon_rv': Etalon RVs (autocal)\n",
      "    'autocal_rv': LFC, ThAr, & Etalon RVs (autocal)\n",
      "    'socal_snr': SoCal SNR & Flux Ratio\n",
      "    'wls_median': WLS Median Difference\n",
      "    'wls_stdev': WLS Standard Deviation of (L1 - L1_ref)\n",
      "    'agitator': KPF Agitator\n",
      "    'etalon': Etalon Temperatures\n",
      "    'fiber_temp': Fiber Temperatures\n",
      "    'hk_temp': Ca H&K Spectrometer Temperatures\n"
     ]
    }
   ],
   "source": [
    "myTS.plot_all_quicklook(print_plot_names=True)"
   ]
  },
  {
   "cell_type": "markdown",
   "id": "722d17dc",
   "metadata": {},
   "source": [
    "## Generating All Standard Plots\n",
    "One can generate all plots from the `plot_all_quicklook_daterange()` method with a single call."
   ]
  },
  {
   "cell_type": "code",
   "execution_count": 4,
   "id": "556dd918",
   "metadata": {},
   "outputs": [
    {
     "name": "stdout",
     "output_type": "stream",
     "text": [
      "INFO: Starting AnalyzeTimeSeries\n",
      "INFO: Jupyter Notebook environment detected.\n",
      "INFO: Path of database file: /code/KPF-Pipeline/docs/source/tutorials/kpf_ts.db\n",
      "INFO: Base data directory: /data/L0\n",
      "INFO: Primary table 'kpfdb' created/updated successfully.\n",
      "INFO: Metadata table 'kpfdb_metadata' created/updated successfully.\n",
      "INFO: Summary: 14928 obs x 1650 cols over 27 days in 20241001-20241027; updated 2025-03-25 18:13:40\n"
     ]
    },
    {
     "ename": "NameError",
     "evalue": "name 'datetime' is not defined",
     "output_type": "error",
     "traceback": [
      "\u001b[31m---------------------------------------------------------------------------\u001b[39m",
      "\u001b[31mNameError\u001b[39m                                 Traceback (most recent call last)",
      "\u001b[36mCell\u001b[39m\u001b[36m \u001b[39m\u001b[32mIn[4]\u001b[39m\u001b[32m, line 2\u001b[39m\n\u001b[32m      1\u001b[39m myTS = AnalyzeTimeSeries(db_path=db_path)\n\u001b[32m----> \u001b[39m\u001b[32m2\u001b[39m myTS.plot_all_quicklook(\u001b[43mdatetime\u001b[49m(\u001b[32m2024\u001b[39m, \u001b[32m10\u001b[39m, \u001b[32m3\u001b[39m), interval=\u001b[33m'\u001b[39m\u001b[33mday\u001b[39m\u001b[33m'\u001b[39m, show_plot=\u001b[38;5;28;01mTrue\u001b[39;00m, verbose=\u001b[38;5;28;01mTrue\u001b[39;00m)\n",
      "\u001b[31mNameError\u001b[39m: name 'datetime' is not defined"
     ]
    }
   ],
   "source": [
    "myTS = AnalyzeTimeSeries(db_path=db_path)\n",
    "myTS.plot_all_quicklook(datetime(2024, 10, 3), interval='day', show_plot=True, verbose=True)"
   ]
  }
 ],
 "metadata": {
  "kernelspec": {
   "display_name": "Python 3 (ipykernel)",
   "language": "python",
   "name": "python3"
  },
  "language_info": {
   "codemirror_mode": {
    "name": "ipython",
    "version": 3
   },
   "file_extension": ".py",
   "mimetype": "text/x-python",
   "name": "python",
   "nbconvert_exporter": "python",
   "pygments_lexer": "ipython3",
   "version": "3.11.10"
  },
  "scrolled": false
 },
 "nbformat": 4,
 "nbformat_minor": 5
}
