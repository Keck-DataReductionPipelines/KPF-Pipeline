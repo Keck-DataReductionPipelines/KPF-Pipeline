{
 "cells": [
  {
   "cell_type": "markdown",
   "id": "23152356-d2f4-4f0b-9d6b-73f41d8bbec1",
   "metadata": {},
   "source": []
  },
  {
   "cell_type": "code",
   "execution_count": 1,
   "id": "c229c99c-de52-46de-a716-cafd53bce4d6",
   "metadata": {},
   "outputs": [],
   "source": [
    "import os\n",
    "import sqlite3\n",
    "import psycopg2\n",
    "import numpy as np\n",
    "import pandas as pd\n",
    "import matplotlib.pyplot as plt\n",
    "from datetime import datetime\n",
    "from modules.quicklook.src.analyze_time_series import AnalyzeTimeSeries\n",
    "from database.modules.utils.tsdb import TSDB\n",
    "%matplotlib inline"
   ]
  },
  {
   "cell_type": "code",
   "execution_count": null,
   "id": "64e9e337-67ad-4492-8a72-35483a19c6f1",
   "metadata": {},
   "outputs": [],
   "source": [
    "This format was chosen because it doesn't require an elaborate software installation and the database files can be easily passed around and read by other users, facilitiating data transfer.   \n"
   ]
  }
 ],
 "metadata": {
  "kernelspec": {
   "display_name": "Python 3 (ipykernel)",
   "language": "python",
   "name": "python3"
  },
  "language_info": {
   "codemirror_mode": {
    "name": "ipython",
    "version": 3
   },
   "file_extension": ".py",
   "mimetype": "text/x-python",
   "name": "python",
   "nbconvert_exporter": "python",
   "pygments_lexer": "ipython3",
   "version": "3.11.10"
  }
 },
 "nbformat": 4,
 "nbformat_minor": 5
}
