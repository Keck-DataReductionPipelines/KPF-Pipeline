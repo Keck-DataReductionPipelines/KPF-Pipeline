{
 "cells": [
  {
   "cell_type": "markdown",
   "id": "23152356-d2f4-4f0b-9d6b-73f41d8bbec1",
   "metadata": {},
   "source": [
    "# Database Details - SQLite and PostgreSQL"
   ]
  },
  {
   "cell_type": "code",
   "execution_count": 1,
   "id": "c229c99c-de52-46de-a716-cafd53bce4d6",
   "metadata": {},
   "outputs": [],
   "source": [
    "import os\n",
    "import sqlite3\n",
    "import psycopg2\n",
    "import numpy as np\n",
    "import pandas as pd\n",
    "import matplotlib.pyplot as plt\n",
    "from datetime import datetime\n",
    "from modules.quicklook.src.analyze_time_series import AnalyzeTimeSeries\n",
    "from database.modules.utils.tsdb import TSDB\n",
    "%matplotlib inline"
   ]
  },
  {
   "cell_type": "markdown",
   "id": "838bce6d-360d-4ff0-b68a-ca1e0b5d04a9",
   "metadata": {},
   "source": [
    "# PostgreSQL"
   ]
  },
  {
   "cell_type": "code",
   "execution_count": 2,
   "id": "ad6a771e-1f6d-4f30-82a5-ebee4019f345",
   "metadata": {},
   "outputs": [
    {
     "name": "stdout",
     "output_type": "stream",
     "text": [
      "INFO: Starting AnalyzeTimeSeries\n",
      "INFO: Starting KPF_TSDB\n",
      "INFO: Base data directory: /data/L0\n",
      "INFO: Jupyter Notebook environment detected.\n",
      "INFO: PSQL server: 127.0.0.1\n",
      "INFO: PSQL user: timeseriesdba\n",
      "INFO: PSQL user role: operations\n",
      "INFO: Metadata table exists.\n",
      "INFO: Metadata table read.\n",
      "INFO: Data tables exist.\n",
      "INFO: Database Table Summary:\n",
      "INFO: Table           Columns       Rows\n",
      "INFO: -----------------------------------\n",
      "INFO: tsdb_base            11     398436\n",
      "INFO: tsdb_l0              87     398436\n",
      "INFO: tsdb_2d              84     397649\n",
      "INFO: tsdb_l1             121     393091\n",
      "INFO: tsdb_l1_medg        106     393091\n",
      "INFO: tsdb_l1_medr         97     393091\n",
      "INFO: tsdb_l1_stdg        106     393091\n",
      "INFO: tsdb_l1_stdr         97     393091\n",
      "INFO: tsdb_l2              17     338431\n",
      "INFO: tsdb_l0t            124     398436\n",
      "INFO: tsdb_l2rv            29     338431\n",
      "INFO: tsdb_l2ccf            7     338431\n",
      "INFO: tsdb_l2_bcv          68     338431\n",
      "INFO: tsdb_l2_bjd          68     338431\n",
      "INFO: tsdb_l2_ccfw         68     338431\n",
      "INFO: tsdb_l2_sci1         68     338431\n",
      "INFO: tsdb_l2_sci2         68     338431\n",
      "INFO: tsdb_l2_sci3         68     338431\n",
      "INFO: tsdb_l2_sci         135     338431\n",
      "INFO: tsdb_l2_cal         135     338431\n",
      "INFO: tsdb_l2_sky         135     338431\n",
      "INFO: Dates: 879 days from 20221109 to 20250602\n",
      "INFO: Last update: 2025-06-02 17:39:24\n"
     ]
    }
   ],
   "source": [
    "backend = 'psql'\n",
    "myTS_psql = AnalyzeTimeSeries(backend=backend)\n",
    "myTS_psql.db.print_db_status()"
   ]
  },
  {
   "cell_type": "code",
   "execution_count": 4,
   "id": "dd1c368e-b129-493f-8d67-b9a49b30f33d",
   "metadata": {},
   "outputs": [
    {
     "ename": "TypeError",
     "evalue": "strptime() argument 1 must be str, not datetime.datetime",
     "output_type": "error",
     "traceback": [
      "\u001b[31m---------------------------------------------------------------------------\u001b[39m",
      "\u001b[31mTypeError\u001b[39m                                 Traceback (most recent call last)",
      "\u001b[36mCell\u001b[39m\u001b[36m \u001b[39m\u001b[32mIn[4]\u001b[39m\u001b[32m, line 1\u001b[39m\n\u001b[32m----> \u001b[39m\u001b[32m1\u001b[39m \u001b[43mmyTS_psql\u001b[49m\u001b[43m.\u001b[49m\u001b[43mdb\u001b[49m\u001b[43m.\u001b[49m\u001b[43mget_first_last_dates\u001b[49m\u001b[43m(\u001b[49m\u001b[43m)\u001b[49m\n",
      "\u001b[36mFile \u001b[39m\u001b[32m/code/KPF-Pipeline/database/modules/utils/tsdb.py:213\u001b[39m, in \u001b[36mwrapper\u001b[39m\u001b[34m(self, *args, **kwargs)\u001b[39m\n\u001b[32m      0\u001b[39m <Error retrieving source code with stack_data see ipython/ipython#13598>\n",
      "\u001b[36mFile \u001b[39m\u001b[32m/code/KPF-Pipeline/database/modules/utils/tsdb.py:1522\u001b[39m, in \u001b[36mget_first_last_dates\u001b[39m\u001b[34m(self)\u001b[39m\n\u001b[32m   1519\u001b[39m self._execute_sql_command(query)\n\u001b[32m   1520\u001b[39m min_date_str, max_date_str = self.cursor.fetchone()\n\u001b[32m-> \u001b[39m\u001b[32m1522\u001b[39m # Convert strings to datetime objects, handling None values gracefully\n\u001b[32m   1523\u001b[39m date_format = '%Y-%m-%dT%H:%M:%S.%f'\n\u001b[32m   1524\u001b[39m first_date = datetime.strptime(min_date_str, date_format) if min_date_str else None\n",
      "\u001b[31mTypeError\u001b[39m: strptime() argument 1 must be str, not datetime.datetime"
     ]
    }
   ],
   "source": [
    "myTS_psql.db.get_first_last_dates()"
   ]
  },
  {
   "cell_type": "markdown",
   "id": "90af648b-fd76-43df-845b-febc6a62b067",
   "metadata": {},
   "source": [
    "# SQLite\n",
    "This format was chosen because it doesn't require an elaborate software installation and the database files can be easily passed around and read by other users, facilitiating data transfer.   "
   ]
  },
  {
   "cell_type": "code",
   "execution_count": 3,
   "id": "108e18ee-c943-4b69-bd11-5de2e06fd108",
   "metadata": {},
   "outputs": [
    {
     "name": "stdout",
     "output_type": "stream",
     "text": [
      "INFO: Starting AnalyzeTimeSeries\n",
      "INFO: Starting KPF_TSDB\n",
      "INFO: Base data directory: /data/L0\n",
      "INFO: Jupyter Notebook environment detected.\n",
      "INFO: Path of database file: /code/KPF-Pipeline/docs/source/tutorials/kpf_ts.db\n",
      "INFO: Metadata table exists.\n",
      "INFO: Metadata table read.\n",
      "INFO: Data tables exist.\n",
      "INFO: Database Table Summary:\n",
      "INFO: Table           Columns       Rows\n",
      "INFO: -----------------------------------\n",
      "INFO: tsdb_base            11       3345\n",
      "INFO: tsdb_l0              87       3345\n",
      "INFO: tsdb_2d              85       3345\n",
      "INFO: tsdb_l1             123       3345\n",
      "INFO: tsdb_l1_medg        106       3345\n",
      "INFO: tsdb_l1_medr         97       3345\n",
      "INFO: tsdb_l1_stdg        106       3345\n",
      "INFO: tsdb_l1_stdr         97       3345\n",
      "INFO: tsdb_l2              17       3013\n",
      "INFO: tsdb_l0t            124       3345\n",
      "INFO: tsdb_l2rv            29       3013\n",
      "INFO: tsdb_l2ccf            7       3013\n",
      "INFO: tsdb_l2_bcv          68       3013\n",
      "INFO: tsdb_l2_bjd          68       3013\n",
      "INFO: tsdb_l2_ccfw         68       3013\n",
      "INFO: tsdb_l2_sci1         68       3013\n",
      "INFO: tsdb_l2_sci2         68       3013\n",
      "INFO: tsdb_l2_sci3         68       3013\n",
      "INFO: tsdb_l2_sci         135       3013\n",
      "INFO: tsdb_l2_cal         135       3013\n",
      "INFO: tsdb_l2_sky         135       3013\n",
      "INFO: Dates: 6 days from 20241001 to 20241006\n",
      "INFO: Last update: 2025-06-01 18:36:53\n"
     ]
    }
   ],
   "source": [
    "backend = 'sqlite'\n",
    "db_path = 'kpf_ts.db' # name of database file\n",
    "myTS_sqlite = AnalyzeTimeSeries(db_path=db_path, backend=backend)\n",
    "myTS_sqlite.db.print_db_status()"
   ]
  },
  {
   "cell_type": "code",
   "execution_count": null,
   "id": "c1383e3b-a381-4ae1-b8a1-69616446abc4",
   "metadata": {},
   "outputs": [],
   "source": []
  }
 ],
 "metadata": {
  "kernelspec": {
   "display_name": "Python 3 (ipykernel)",
   "language": "python",
   "name": "python3"
  },
  "language_info": {
   "codemirror_mode": {
    "name": "ipython",
    "version": 3
   },
   "file_extension": ".py",
   "mimetype": "text/x-python",
   "name": "python",
   "nbconvert_exporter": "python",
   "pygments_lexer": "ipython3",
   "version": "3.11.10"
  }
 },
 "nbformat": 4,
 "nbformat_minor": 5
}
